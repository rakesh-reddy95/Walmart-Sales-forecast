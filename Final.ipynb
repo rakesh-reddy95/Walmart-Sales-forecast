{
 "cells": [
  {
   "cell_type": "code",
   "execution_count": 1,
   "metadata": {},
   "outputs": [
    {
     "name": "stderr",
     "output_type": "stream",
     "text": [
      "C:\\Users\\mrakeshr\\Anaconda3\\lib\\site-packages\\statsmodels\\tools\\_testing.py:19: FutureWarning: pandas.util.testing is deprecated. Use the functions in the public API at pandas.testing instead.\n",
      "  import pandas.util.testing as tm\n"
     ]
    }
   ],
   "source": [
    "import numpy as np\n",
    "import pandas as pd\n",
    "from datetime import datetime\n",
    "from tqdm import tqdm\n",
    "import matplotlib.pyplot as plt\n",
    "import seaborn as sns\n",
    "from scipy.stats import pearsonr\n",
    "import math\n",
    "from sklearn.model_selection import train_test_split\n",
    "from sklearn.ensemble import RandomForestRegressor\n",
    "import pickle\n",
    "pd.options.mode.chained_assignment = None "
   ]
  },
  {
   "cell_type": "code",
   "execution_count": 2,
   "metadata": {},
   "outputs": [],
   "source": [
    "def wmae(dataset, real, predicted):\n",
    "    weights = dataset.IsHoliday.apply(lambda x: 5 if x else 1)\n",
    "    return np.round(np.sum(weights*abs(np.array(real)-np.array(predicted)))/(np.sum(weights)), 2)"
   ]
  },
  {
   "cell_type": "code",
   "execution_count": 3,
   "metadata": {},
   "outputs": [],
   "source": [
    "#Returns the predictions of weekly sales on the data passed\n",
    "\n",
    "\n",
    "def final_fun_1(X):\n",
    "    X['Date']=pd.to_datetime(X.Date)  #Converting the string type to pandas date_time\n",
    "    #Extracting year,month, day, day of the year, week of the year, is month start, is month end features.    \n",
    "    X['Year']=pd.DatetimeIndex(X['Date']).year  \n",
    "    X['Month']=pd.DatetimeIndex(X['Date']).month\n",
    "    X['Day']=pd.DatetimeIndex(X['Date']).day\n",
    "    X.Type = X.Type.apply(lambda x: 3 if x == 'A' else(2 if x == 'B' else 1))\n",
    "    X.IsHoliday= X.IsHoliday.apply(lambda x: 0 if x== False else 1)\n",
    "    X=X.fillna(0)\n",
    "    X=X.drop(columns=['CPI','Unemployment','Fuel_Price','MarkDown1','MarkDown2','MarkDown3',\n",
    "                                      'MarkDown4','MarkDown5','Date' ])\n",
    "    model=pickle.load(open(\"final_model\", 'rb')) #loading the saved model\n",
    "    return model.predict(X)"
   ]
  },
  {
   "cell_type": "code",
   "execution_count": 4,
   "metadata": {},
   "outputs": [],
   "source": [
    "#Returns WMAE of the data given\n",
    "\n",
    "def final_fun_2(X,Y):\n",
    "    \n",
    "    X['Date']=pd.to_datetime(X.Date)  #Converting the string type to pandas date_time\n",
    "    #Extracting year,month, day, day of the year, week of the year, is month start, is month end features.    \n",
    "    X['Year']=pd.DatetimeIndex(X['Date']).year  \n",
    "    X['Month']=pd.DatetimeIndex(X['Date']).month\n",
    "    X['Day']=pd.DatetimeIndex(X['Date']).day\n",
    "    X.Type = X.Type.apply(lambda x: 3 if x == 'A' else(2 if x == 'B' else 1))\n",
    "    X.IsHoliday= X.IsHoliday.apply(lambda x: 0 if x== False else 1)\n",
    "    X=X.fillna(0)\n",
    "    X=X.drop(columns=['CPI','Unemployment','Fuel_Price','MarkDown1','MarkDown2','MarkDown3',\n",
    "                                      'MarkDown4','MarkDown5','Weekly_Sales' ])\n",
    "    X.drop(labels='Date', axis=1, inplace=True)\n",
    "    model=pickle.load(open(\"final_model\", 'rb'))\n",
    "    return wmae(X, Y, model.predict(X))\n",
    "    \n",
    "    \n"
   ]
  },
  {
   "cell_type": "code",
   "execution_count": 5,
   "metadata": {},
   "outputs": [],
   "source": [
    "#Reading the data\n",
    "train=pd.read_csv(\"train.csv/train.csv\")\n",
    "features=pd.read_csv(\"features.csv/features.csv\")\n",
    "stores=pd.read_csv(\"stores.csv\")\n",
    "test=pd.read_csv(\"test.csv/test.csv\")\n",
    "\n",
    "train.Date = pd.to_datetime(train.Date)\n",
    "test.Date = pd.to_datetime(test.Date)\n",
    "\n",
    "#Merging the 3 datasets given based on the store and Date\n",
    "features_stores=features.merge(stores,how='inner', on=['Store'])\n",
    "features_stores.Date=pd.to_datetime(features_stores.Date)\n",
    "data=train.merge(features_stores,how='inner', on=['Store','Date','IsHoliday']).sort_values(by=['Store','Dept','Date']).reset_index(drop=True)\n",
    "\n",
    "test_data = test.merge(features_stores, how='inner', on=['Store','Date','IsHoliday']).sort_values(by=['Store',\n",
    "                                                                            'Dept',\n",
    "                                                                            'Date']).reset_index(drop=True)"
   ]
  },
  {
   "cell_type": "code",
   "execution_count": 6,
   "metadata": {},
   "outputs": [
    {
     "data": {
      "text/plain": [
       "14266.15"
      ]
     },
     "execution_count": 6,
     "metadata": {},
     "output_type": "execute_result"
    }
   ],
   "source": [
    "final_fun_2(data.loc[:1], data['Weekly_Sales'].iloc[:1]) # WMAE for single data point"
   ]
  },
  {
   "cell_type": "code",
   "execution_count": 7,
   "metadata": {},
   "outputs": [
    {
     "data": {
      "text/plain": [
       "750.34"
      ]
     },
     "execution_count": 7,
     "metadata": {},
     "output_type": "execute_result"
    }
   ],
   "source": [
    "final_fun_2(data, data['Weekly_Sales']) # WMAE for all the data points"
   ]
  },
  {
   "cell_type": "code",
   "execution_count": 8,
   "metadata": {},
   "outputs": [
    {
     "data": {
      "text/plain": [
       "array([28081.72183333])"
      ]
     },
     "execution_count": 8,
     "metadata": {},
     "output_type": "execute_result"
    }
   ],
   "source": [
    "final_fun_1(test_data.iloc[:1]) # Predictions for a single data point"
   ]
  },
  {
   "cell_type": "code",
   "execution_count": 9,
   "metadata": {},
   "outputs": [
    {
     "data": {
      "text/plain": [
       "array([28081.72183333, 21324.22875   , 19414.35783333, ...,\n",
       "         789.19816667,   749.41641667,   702.68841667])"
      ]
     },
     "execution_count": 9,
     "metadata": {},
     "output_type": "execute_result"
    }
   ],
   "source": [
    "final_fun_1(test_data) #Predictions for all the data points"
   ]
  }
 ],
 "metadata": {
  "kernelspec": {
   "display_name": "Python 3",
   "language": "python",
   "name": "python3"
  },
  "language_info": {
   "codemirror_mode": {
    "name": "ipython",
    "version": 3
   },
   "file_extension": ".py",
   "mimetype": "text/x-python",
   "name": "python",
   "nbconvert_exporter": "python",
   "pygments_lexer": "ipython3",
   "version": "3.7.4"
  }
 },
 "nbformat": 4,
 "nbformat_minor": 4
}
